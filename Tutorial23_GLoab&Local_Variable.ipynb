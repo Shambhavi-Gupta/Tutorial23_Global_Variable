{
  "nbformat": 4,
  "nbformat_minor": 0,
  "metadata": {
    "colab": {
      "name": "Tutorial23_GLoab&Local_Variable.ipynb",
      "provenance": [],
      "authorship_tag": "ABX9TyPX3FELgfItgZ2b11pfPK8t",
      "include_colab_link": true
    },
    "kernelspec": {
      "name": "python3",
      "display_name": "Python 3"
    }
  },
  "cells": [
    {
      "cell_type": "markdown",
      "metadata": {
        "id": "view-in-github",
        "colab_type": "text"
      },
      "source": [
        "<a href=\"https://colab.research.google.com/github/Shambhavi-Gupta/Tutorial23_Global_Variable/blob/main/Tutorial23_GLoab%26Local_Variable.ipynb\" target=\"_parent\"><img src=\"https://colab.research.google.com/assets/colab-badge.svg\" alt=\"Open In Colab\"/></a>"
      ]
    },
    {
      "cell_type": "code",
      "metadata": {
        "id": "ZqLUTpTPHUqQ"
      },
      "source": [
        "# l = 10   #global variable means any number of functions can use this variable inside the program\r\n",
        "#\r\n",
        "# def function(n):\r\n",
        "#    #l = 5 #local variable\r\n",
        "#    #print(l)\r\n",
        "#    m = 8\r\n",
        "#    global l\r\n",
        "#    l = l + 50\r\n",
        "#    print(l , m)\r\n",
        "#     #print(n,\"I have printed\")\r\n",
        "#\r\n",
        "# function(\"This is me\")\r\n",
        "#print(l)\r\n",
        "# local variables are printed inside the function\r\n",
        "#first sees the local scope and then the variable scope\r\n",
        "\r\n",
        "def one():\r\n",
        "    x = 20\r\n",
        "    def two():\r\n",
        "        global x\r\n",
        "        x = 88\r\n",
        "    print(\"before calling two()\",x)\r\n",
        "    two()\r\n",
        "    print(\"after calling two()\",x)\r\n",
        "\r\n",
        "one()\r\n",
        "print(x)"
      ],
      "execution_count": null,
      "outputs": []
    }
  ]
}